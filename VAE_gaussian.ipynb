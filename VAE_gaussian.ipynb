{
 "cells": [
  {
   "cell_type": "markdown",
   "id": "7d82228b",
   "metadata": {},
   "source": [
    "# Variational Autoencoder\n",
    "Experiments with VAEs."
   ]
  },
  {
   "cell_type": "markdown",
   "id": "aa7a1cdd",
   "metadata": {},
   "source": [
    "## Imports"
   ]
  },
  {
   "cell_type": "code",
   "execution_count": 1,
   "id": "df4f0210",
   "metadata": {},
   "outputs": [
    {
     "name": "stderr",
     "output_type": "stream",
     "text": [
      "/home/aws_install/miniconda3/envs/py37/lib/python3.7/site-packages/torchvision/datasets/mnist.py:498: UserWarning: The given NumPy array is not writeable, and PyTorch does not support non-writeable tensors. This means you can write to the underlying (supposedly non-writeable) NumPy array using the tensor. You may want to copy the array to protect its data or make it writeable before converting it to a tensor. This type of warning will be suppressed for the rest of this program. (Triggered internally at  /opt/conda/conda-bld/pytorch_1623448265233/work/torch/csrc/utils/tensor_numpy.cpp:180.)\n",
      "  return torch.from_numpy(parsed.astype(m[2], copy=False)).view(*s)\n"
     ]
    }
   ],
   "source": [
    "import math\n",
    "\n",
    "import torch\n",
    "from torch import nn\n",
    "import torch.nn.functional as F\n",
    "from torch.utils.data import DataLoader\n",
    "\n",
    "import torchvision.datasets as datasets\n",
    "\n",
    "from matplotlib import pyplot as plt\n",
    "\n",
    "from tqdm import tqdm\n",
    "\n",
    "mnist_train = datasets.MNIST(root='./data', train=True, download=True, transform=None)\n",
    "mnist_test = datasets.MNIST(root='./data', train=False, download=True, transform=None)\n",
    "\n",
    "device = torch.device('cuda' if torch.cuda.is_available() else 'cpu')"
   ]
  },
  {
   "cell_type": "markdown",
   "id": "e0067208",
   "metadata": {},
   "source": [
    "## Dataloaders"
   ]
  },
  {
   "cell_type": "code",
   "execution_count": 3,
   "id": "791c4df9",
   "metadata": {},
   "outputs": [
    {
     "data": {
      "image/png": "[encoded data removed]",
      "text/plain": [
       "<Figure size 720x288 with 10 Axes>"
      ]
     },
     "metadata": {
      "needs_background": "light"
     },
     "output_type": "display_data"
    },
    {
     "name": "stdout",
     "output_type": "stream",
     "text": [
      "Batch x Width x Height: [64, 28, 28]\n"
     ]
    }
   ],
   "source": [
    "%matplotlib inline\n",
    "\n",
    "train_data = mnist_train.data.to(device)\n",
    "test_data = mnist_test.data.to(device)\n",
    "\n",
    "train_data = train_data / train_data.max()\n",
    "test_data = test_data / test_data.max()\n",
    "\n",
    "train_loader = DataLoader(list(train_data), batch_size=64, shuffle=True)\n",
    "test_loader = DataLoader(list(test_data), batch_size=64, shuffle=False)\n",
    "\n",
    "first_batch = next(iter(train_loader))\n",
    "sample_images = first_batch[:10].cpu().numpy()\n",
    "\n",
    "fig, axes = plt.subplots(2, 5, figsize=(2*5, 2*2))\n",
    "for i in range(10):\n",
    "    ax = axes[divmod(i,5)]\n",
    "    ax.imshow(sample_images[i], cmap='gray')\n",
    "plt.tight_layout()\n",
    "plt.show()\n",
    "\n",
    "num_batches = len(train_loader)\n",
    "print(f'Batch x Width x Height: {list(first_batch.shape)}')"
   ]
  },
  {
   "cell_type": "markdown",
   "id": "53fcb251",
   "metadata": {},
   "source": [
    "### Model Definition"
   ]
  },
  {
   "cell_type": "code",
   "execution_count": 16,
   "id": "9e8baf37",
   "metadata": {},
   "outputs": [],
   "source": [
    "class LinBlock(torch.nn.Module):\n",
    "            def __init__(self, in_features, out_features, p=0):\n",
    "                super().__init__()\n",
    "\n",
    "                self.res = nn.Linear(in_features, out_features) \n",
    "                self.lin = nn.Sequential(\n",
    "                    nn.Linear(in_features, out_features),\n",
    "                    nn.ReLU(),\n",
    "                )\n",
    "\n",
    "                self.dropout = nn.Dropout(p) \n",
    "\n",
    "            def forward(self, x):\n",
    "                x_res = self.res(x)\n",
    "                x = self.lin(x) + x_res\n",
    "                x = F.layer_norm(x, tuple(x.shape[1:]))\n",
    "                return self.dropout(x)\n",
    "\n",
    "class VAE_Dense(nn.Module):\n",
    "\n",
    "    def __init__(self, latent_size) -> None:\n",
    "        super().__init__()\n",
    "\n",
    "        self.encoder = nn.Sequential(\n",
    "            nn.Flatten(start_dim=1, end_dim=-1),\n",
    "            LinBlock(28*28, 512, p=0.2),\n",
    "            nn.Linear(512, 2*latent_size)\n",
    "        )\n",
    "\n",
    "        self.decoder = nn.Sequential(\n",
    "            LinBlock(latent_size, 512, p=0.2),\n",
    "            LinBlock(512, 28*28, p=0.2),\n",
    "            nn.Linear(28*28, 2*28*28),\n",
    "        )\n",
    "\n",
    "    def forward(self, x, n_z=1):\n",
    "        mu_z, logvar_z = self.encoder(x).chunk(2, dim=-1)\n",
    "        \n",
    "        std_z = torch.exp(0.5 * logvar_z)\n",
    "\n",
    "        latent_samples = []\n",
    "        kld = 0\n",
    "        # draw N samples from latent space\n",
    "        for i in range(n_z):\n",
    "            eps = torch.randn_like(std_z)\n",
    "            z = std_z * eps + mu_z\n",
    "            \n",
    "            latent_samples.append(self.decoder(z))\n",
    "            # sum over latent dim, average over batch\n",
    "            kld += torch.mean(-0.5 * torch.sum(1 + logvar_z - (mu_z ** 2) - logvar_z.exp(), dim=1)) \n",
    "        kld /= i+1\n",
    "        mu_x, logvar_x = torch.stack(latent_samples, dim=1).view(-1, n_z, 2, 28, 28).chunk(2, dim=2)\n",
    "\n",
    "        return mu_x.squeeze(2).mean(1), logvar_x.squeeze(2).mean(1), kld"
   ]
  },
  {
   "cell_type": "code",
   "execution_count": 20,
   "id": "d3b1baef",
   "metadata": {},
   "outputs": [
    {
     "data": {
      "image/png": "[encoded data removed]",
      "text/plain": [
       "<Figure size 432x288 with 1 Axes>"
      ]
     },
     "metadata": {
      "needs_background": "light"
     },
     "output_type": "display_data"
    }
   ],
   "source": [
    "import matplotlib.pyplot as plt\n",
    "\n",
    "latent = 4\n",
    "epochs = 100\n",
    "\n",
    "# model = VAE_Conv(latent_size=latent)\n",
    "model = VAE_Dense(latent_size=latent).to(device)\n",
    "optimizer = torch.optim.Adam(model.parameters(), 0.001)\n",
    "\n",
    "x_ticks = torch.linspace(0, 10, num_batches * epochs)\n",
    "kl_weights = 1/(1 + torch.exp(-2.5*(x_ticks-1.25))).detach()\n",
    "  \n",
    "plt.plot(x_ticks, kl_weights)\n",
    "plt.xlabel(\"x\")\n",
    "plt.ylabel(\"f(x)\")\n",
    "  \n",
    "plt.show()"
   ]
  },
  {
   "cell_type": "markdown",
   "id": "8d00b548",
   "metadata": {},
   "source": [
    "## Training"
   ]
  },
  {
   "cell_type": "code",
   "execution_count": 21,
   "id": "b15f2760",
   "metadata": {},
   "outputs": [
    {
     "name": "stderr",
     "output_type": "stream",
     "text": [
      "100%|██████████| 100/100 [09:33<00:00,  5.74s/it]"
     ]
    },
    {
     "name": "stdout",
     "output_type": "stream",
     "text": [
      "Train MSE: 0.0817\n"
     ]
    },
    {
     "name": "stderr",
     "output_type": "stream",
     "text": [
      "\n"
     ]
    }
   ],
   "source": [
    "model.train()\n",
    "\n",
    "loss_history = []\n",
    "kld_history = []\n",
    "step = 0\n",
    "for _ in tqdm(range(epochs)):\n",
    "    train_mse = 0\n",
    "    train_logl = 0\n",
    "    avg_kld = 0\n",
    "    for i, image_batch in enumerate(train_loader):\n",
    "        optimizer.zero_grad()\n",
    "\n",
    "        mu_x, logvar_x, kld = model(image_batch, n_z=1)\n",
    "\n",
    "        log_likelihood = -((image_batch - mu_x) ** 2) / (2 * torch.exp(logvar_x)) - logvar_x - math.log(math.sqrt(2 * math.pi))\n",
    "        log_likelihood = log_likelihood.sum((1,2)).mean()\n",
    "\n",
    "        kld_weight = kl_weights[step]\n",
    "        loss = kld_weight * kld - log_likelihood\n",
    "\n",
    "        std_z = torch.exp(0.5 * logvar_x)\n",
    "        train_mse += torch.mean(((mu_x + std_z) - image_batch)**2).item()\n",
    "        avg_kld += kld.item()\n",
    "        train_logl -= log_likelihood.item()\n",
    "                \n",
    "        loss.backward()\n",
    "        optimizer.step()\n",
    "        step += 1\n",
    "\n",
    "    train_mse /= i+1\n",
    "    train_logl /= i+1\n",
    "    avg_kld /= i+1\n",
    "\n",
    "    kld_history.append(avg_kld)\n",
    "    loss_history.append(train_mse)\n",
    "\n",
    "print(\"Train MSE: {:.4f}\".format(train_mse))\n",
    "\n",
    "torch.save(model.state_dict(), 'model_gaussian.pt')"
   ]
  },
  {
   "cell_type": "code",
   "execution_count": 22,
   "id": "795e93c2",
   "metadata": {},
   "outputs": [
    {
     "data": {
      "image/png": "[encoded data removed]",
      "text/plain": [
       "<Figure size 432x288 with 2 Axes>"
      ]
     },
     "metadata": {
      "needs_background": "light"
     },
     "output_type": "display_data"
    }
   ],
   "source": [
    "### RESULTS PLOT\n",
    "colors = ['#2300a8', '#8400a8'] # '#8400a8', '#00A658'\n",
    "plot_dict = {'Reconstruction MSE': (loss_history, colors[0]), 'KL-Divergence': (kld_history, colors[1])}\n",
    "# plot_dict = {'Reconstruction': (loss_history, colors[0])}\n",
    "\n",
    "n = len(loss_history)\n",
    "\n",
    "# plot train and val losses and log_likelihood area under the curve\n",
    "fig, axes = plt.subplots(1,2)\n",
    "x_axis = list(range(1, n+1))\n",
    "for i, (key, (data, color)) in enumerate(plot_dict.items()):\n",
    "    ax = axes[i]\n",
    "    ax.plot(x_axis, data, \n",
    "                label=key, \n",
    "                linewidth=2, \n",
    "                linestyle='-', \n",
    "                alpha=1, \n",
    "                color=color)\n",
    "    ax.fill_between(x_axis, data, \n",
    "                alpha=0.3, \n",
    "                color=color)\n",
    "    \n",
    "    # figure labels\n",
    "    ax.set_title('Loss over time', fontweight='bold')\n",
    "    ax.set_xlabel('Epochs', fontweight='bold')\n",
    "    ax.set_ylabel('Mean Squared Error', fontweight='bold')\n",
    "    ax.legend(loc='upper right')\n",
    "\n",
    "    # remove top and right borders\n",
    "    ax.spines['top'].set_visible(False)\n",
    "    ax.spines['right'].set_visible(False)\n",
    "\n",
    "    # adds major gridlines\n",
    "    ax.grid(color='grey', linestyle='-', linewidth=0.35, alpha=0.8)\n",
    "\n",
    "# y-axis in log scale (reconstruction loss tends to start high)\n",
    "# ax.set_yscale('log')\n",
    "plt.show()"
   ]
  },
  {
   "cell_type": "markdown",
   "id": "38690185",
   "metadata": {},
   "source": [
    "## Testing"
   ]
  },
  {
   "cell_type": "code",
   "execution_count": 23,
   "id": "b34a83c2",
   "metadata": {},
   "outputs": [
    {
     "name": "stdout",
     "output_type": "stream",
     "text": [
      "Test MSE: 0.0735\n"
     ]
    }
   ],
   "source": [
    "### TEST \n",
    "model.load_state_dict(torch.load('model_gaussian.pt'))\n",
    "model.eval()\n",
    "test_mse = 0\n",
    "reconstructions = []\n",
    "with torch.no_grad():\n",
    "    h, c = None, None\n",
    "    for i, image_batchx in enumerate(test_loader):\n",
    "        n_z = 50\n",
    "        mu_x, logvar_x, kld = model(image_batch, n_z)\n",
    "\n",
    "        log_likelihood = -((image_batch - mu_x) ** 2) / (2 * torch.exp(logvar_x)) - logvar_x - math.log(math.sqrt(2 * math.pi))\n",
    "        log_likelihood = log_likelihood.sum((1,2)).mean()\n",
    "\n",
    "        std_x = torch.exp(0.5 * logvar_x)\n",
    "        rec = (mu_x + std_x)\n",
    "\n",
    "        test_mse += torch.mean((rec - image_batch)**2).item()\n",
    "        reconstructions.append((image_batch, rec))\n",
    "\n",
    "    test_mse /= i+1\n",
    "\n",
    "print(\"Test MSE: {:.4f}\".format(test_mse))"
   ]
  },
  {
   "cell_type": "markdown",
   "id": "a981fc95",
   "metadata": {},
   "source": [
    "### Plots"
   ]
  },
  {
   "cell_type": "code",
   "execution_count": 24,
   "id": "2f97abed",
   "metadata": {},
   "outputs": [
    {
     "data": {
      "image/png": "[encoded data removed]",
      "text/plain": [
       "<Figure size 720x288 with 10 Axes>"
      ]
     },
     "metadata": {
      "needs_background": "light"
     },
     "output_type": "display_data"
    }
   ],
   "source": [
    "input, reconstructed = reconstructions[0][:5]\n",
    "\n",
    "fig, axes = plt.subplots(2, 5, figsize=(2*5, 2*2))\n",
    "for i in range(5):\n",
    "    ax = axes[0,i]\n",
    "    ax.imshow(input[i].cpu().numpy(), cmap='gray')\n",
    "    ax = axes[1,i]\n",
    "    ax.imshow(reconstructed[i].cpu().numpy(), cmap='gray')\n",
    "plt.tight_layout()\n",
    "plt.show()"
   ]
  },
  {
   "cell_type": "code",
   "execution_count": null,
   "id": "61f6876b",
   "metadata": {},
   "outputs": [],
   "source": []
  }
 ],
 "metadata": {
  "kernelspec": {
   "display_name": "Python 3 (ipykernel)",
   "language": "python",
   "name": "python3"
  },
  "language_info": {
   "codemirror_mode": {
    "name": "ipython",
    "version": 3
   },
   "file_extension": ".py",
   "mimetype": "text/x-python",
   "name": "python",
   "nbconvert_exporter": "python",
   "pygments_lexer": "ipython3",
   "version": "3.7.10"
  }
 },
 "nbformat": 4,
 "nbformat_minor": 5
}
