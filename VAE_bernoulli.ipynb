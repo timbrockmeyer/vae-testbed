{
 "cells": [
  {
   "cell_type": "markdown",
   "id": "7d82228b",
   "metadata": {},
   "source": [
    "## Variational Autoencoder\n",
    "VAE with Gaussian encoder and Bernoulli decoder networks."
   ]
  },
  {
   "cell_type": "markdown",
   "id": "aa7a1cdd",
   "metadata": {},
   "source": [
    "## Imports"
   ]
  },
  {
   "cell_type": "code",
   "execution_count": 4,
   "id": "df4f0210",
   "metadata": {},
   "outputs": [],
   "source": [
    "import math\n",
    "\n",
    "import torch\n",
    "from torch import nn\n",
    "import torch.nn.functional as F\n",
    "from torch.utils.data import DataLoader\n",
    "\n",
    "import torchvision.datasets as datasets\n",
    "\n",
    "from matplotlib import pyplot as plt\n",
    "\n",
    "from tqdm import tqdm\n",
    "\n",
    "mnist_train = datasets.MNIST(root='./data', train=True, download=True, transform=None)\n",
    "mnist_test = datasets.MNIST(root='./data', train=False, download=True, transform=None)"
   ]
  },
  {
   "cell_type": "markdown",
   "id": "8c81261d",
   "metadata": {},
   "source": [
    "### Computing device\n",
    "CPU or GPU (cuda)"
   ]
  },
  {
   "cell_type": "code",
   "execution_count": 5,
   "id": "fdebc905",
   "metadata": {},
   "outputs": [],
   "source": [
    "device = torch.device('cuda' if torch.cuda.is_available() else 'cpu')"
   ]
  },
  {
   "cell_type": "markdown",
   "id": "e0067208",
   "metadata": {},
   "source": [
    "## Dataloaders"
   ]
  },
  {
   "cell_type": "code",
   "execution_count": 134,
   "id": "791c4df9",
   "metadata": {},
   "outputs": [
    {
     "data": {
      "image/png": "[encoded data removed]",
      "text/plain": [
       "<Figure size 720x288 with 10 Axes>"
      ]
     },
     "metadata": {
      "needs_background": "light"
     },
     "output_type": "display_data"
    },
    {
     "name": "stdout",
     "output_type": "stream",
     "text": [
      "Number training batches: 938\n",
      "Batch x Width x Height: [64, 28, 28]\n"
     ]
    }
   ],
   "source": [
    "%matplotlib inline\n",
    "\n",
    "train_data = mnist_train.data.to(device)\n",
    "test_data = mnist_test.data.to(device)\n",
    "\n",
    "train_data = train_data / train_data.max()\n",
    "test_data = test_data / test_data.max()\n",
    "\n",
    "train_loader = DataLoader(list(train_data), batch_size=64, shuffle=True)\n",
    "test_loader = DataLoader(list(test_data), batch_size=64, shuffle=False)\n",
    "\n",
    "first_batch = next(iter(train_loader))\n",
    "sample_images = first_batch[:10].cpu().numpy()\n",
    "\n",
    "fig, axes = plt.subplots(2, 5, figsize=(2*5, 2*2))\n",
    "for i in range(10):\n",
    "    ax = axes[divmod(i,5)]\n",
    "    ax.imshow(sample_images[i], cmap='gray')\n",
    "plt.tight_layout()\n",
    "plt.show()\n",
    "\n",
    "num_batches = len(train_loader)\n",
    "print(f'Number training batches: {len(train_loader)}')\n",
    "print(f'Batch x Width x Height: {list(first_batch.shape)}')"
   ]
  },
  {
   "cell_type": "markdown",
   "id": "53fcb251",
   "metadata": {},
   "source": [
    "### Model Definition\n",
    "hard coded for 28x28 images (MNIST)."
   ]
  },
  {
   "cell_type": "code",
   "execution_count": 171,
   "id": "44ef5145",
   "metadata": {},
   "outputs": [],
   "source": [
    "class VAE_Conv(nn.Module):\n",
    "\n",
    "    def __init__(self, latent_size) -> None:\n",
    "        super().__init__()\n",
    "\n",
    "        # conv encoder\n",
    "        block_0_ch = 16\n",
    "        self.encoder_block_0 = nn.Sequential(\n",
    "            nn.Conv2d(1, block_0_ch, 5), # 24\n",
    "            nn.MaxPool2d(2, 2), # 12\n",
    "            nn.BatchNorm2d(block_0_ch)\n",
    "        )\n",
    "        self.encoder = nn.ModuleList()\n",
    "        in_ch = block_0_ch\n",
    "        h_ch = 2*in_ch\n",
    "        out_ch = 2*h_ch\n",
    "        self.encoder.append(\n",
    "            nn.ModuleList([\n",
    "                nn.Conv2d(in_ch, out_ch, 1, 2), # 6\n",
    "                nn.Sequential(\n",
    "                    nn.Conv2d(in_ch, h_ch, 3, 2, 1), # 6\n",
    "                    nn.BatchNorm2d(h_ch),\n",
    "                    nn.ReLU(),\n",
    "                    nn.Conv2d(h_ch, out_ch, 3, 1, 1), # 6\n",
    "                    nn.BatchNorm2d(out_ch),\n",
    "                )\n",
    "            ])\n",
    "        )\n",
    "        self.skip_e = nn.Conv2d(1, out_ch, 23) # 6\n",
    "        self.encoder_out = nn.Sequential(\n",
    "            nn.ReLU(),\n",
    "            nn.AvgPool2d(6,6),\n",
    "            nn.Flatten(start_dim=1, end_dim=-1),\n",
    "            nn.Linear(out_ch, 2*latent_size),\n",
    "        )\n",
    "\n",
    "        # upconv decoder\n",
    "        in_ch = 2*out_ch\n",
    "        self.decoder_in = nn.Linear(latent_size, in_ch)\n",
    "        self.decoder = nn.ModuleList()\n",
    "        \n",
    "        for i in range(5):\n",
    "            h_ch = in_ch//2\n",
    "            out_ch = in_ch//2\n",
    "            self.decoder.append(\n",
    "                nn.ModuleList([\n",
    "                    nn.ConvTranspose2d(in_ch, out_ch, 2, 2), # 8\n",
    "                    nn.Sequential(\n",
    "                        nn.ConvTranspose2d(in_ch, h_ch, (2,1), (2,1)), # 4\n",
    "                        nn.BatchNorm2d(h_ch),\n",
    "                        nn.ReLU(),\n",
    "                        nn.ConvTranspose2d(h_ch, out_ch, (1,2), (1,2)), # 8\n",
    "                        nn.BatchNorm2d(out_ch),\n",
    "                    )\n",
    "                ])\n",
    "            )\n",
    "            in_ch = out_ch\n",
    "\n",
    "        self.decoder.append(\n",
    "            nn.ModuleList([\n",
    "                nn.Conv2d(out_ch, 8, 5), # 28\n",
    "                nn.Sequential(\n",
    "                    nn.Conv2d(out_ch, 8, 3), # 30\n",
    "                    nn.BatchNorm2d(8),\n",
    "                    nn.ReLU(),\n",
    "                    nn.Conv2d(8, 8, 3), # 28\n",
    "                    nn.BatchNorm2d(8),\n",
    "                )\n",
    "            ])\n",
    "        )\n",
    "        self.decoder.append(\n",
    "            nn.ModuleList([\n",
    "                nn.Conv2d(8, 8, 1), # 28\n",
    "                nn.Sequential(\n",
    "                    nn.Conv2d(8, 8, 3, 1, 1), # 28\n",
    "                    nn.BatchNorm2d(8),\n",
    "                    nn.ReLU(),\n",
    "                    nn.Conv2d(8, 8, 3, 1, 1), # 28\n",
    "                    nn.BatchNorm2d(8),\n",
    "                )\n",
    "            ])\n",
    "        )\n",
    "        \n",
    "        self.decoder_out = nn.Sequential(\n",
    "            nn.Conv2d(8, 4, 3, 1, 1),\n",
    "            nn.BatchNorm2d(4),\n",
    "            nn.ReLU(),\n",
    "            nn.Conv2d(4, 1, 1)\n",
    "        )\n",
    "    \n",
    "    \n",
    "    def forward(self, x):\n",
    "        x = F.dropout(x, 0.2)\n",
    "        B = x.size(0)\n",
    "        x = x.unsqueeze(1)\n",
    "        skip_x = self.skip_e(x)\n",
    "        x = self.encoder_block_0(x)\n",
    "        for res, block in self.encoder:\n",
    "            x = F.relu(res(x) + block(x))\n",
    "        \n",
    "        mu_z, logvar_z = self.encoder_out(skip_x + x).chunk(2, dim=-1)\n",
    "\n",
    "        std_z = torch.exp(0.5 * logvar_z)\n",
    "        eps = torch.randn_like(std_z)\n",
    "\n",
    "        z = std_z * eps + mu_z\n",
    "        \n",
    "        h = self.decoder_in(z)\n",
    "        \n",
    "        h = h.view(B, -1, 1, 1)\n",
    "        for res, block in self.decoder:\n",
    "            h = F.relu(res(h) + block(h))\n",
    "\n",
    "        logits = self.decoder_out(h).view(-1, 28, 28) \n",
    "        kld = torch.mean(-0.5 * torch.sum(1 + logvar_z - (mu_z ** 2) - logvar_z.exp(), dim=1))\n",
    "\n",
    "        return torch.sigmoid(logits), kld\n",
    "\n"
   ]
  },
  {
   "cell_type": "markdown",
   "id": "288adb67",
   "metadata": {},
   "source": [
    "### KL-Weight Scheduler"
   ]
  },
  {
   "cell_type": "code",
   "execution_count": 183,
   "id": "6ed88490",
   "metadata": {},
   "outputs": [
    {
     "name": "stdout",
     "output_type": "stream",
     "text": [
      "[4.53978687e-05 4.54099695e-05 4.54220736e-05 ... 9.99999694e-01\n",
      " 9.99999694e-01 9.99999694e-01]\n"
     ]
    },
    {
     "data": {
      "image/png": "[encoded data removed]",
      "text/plain": [
       "<Figure size 432x288 with 1 Axes>"
      ]
     },
     "metadata": {
      "needs_background": "light"
     },
     "output_type": "display_data"
    }
   ],
   "source": [
    "import matplotlib.pyplot as plt\n",
    "import numpy as np\n",
    "\n",
    "epochs = 100\n",
    "x = np.linspace(0, 10, num_batches * epochs)\n",
    "z = 1/(1 + np.exp(-2.5*(x-4))) # shifted sigmoid\n",
    "  \n",
    "plt.plot(x, z)\n",
    "plt.xlabel(\"x\")\n",
    "plt.ylabel(\"f(x)\")\n",
    "  \n",
    "plt.show()"
   ]
  },
  {
   "cell_type": "markdown",
   "id": "8d00b548",
   "metadata": {},
   "source": [
    "## Training"
   ]
  },
  {
   "cell_type": "code",
   "execution_count": 173,
   "id": "b15f2760",
   "metadata": {},
   "outputs": [
    {
     "name": "stderr",
     "output_type": "stream",
     "text": [
      "100%|██████████| 200/200 [1:25:41<00:00, 25.71s/it]"
     ]
    },
    {
     "name": "stdout",
     "output_type": "stream",
     "text": [
      "Train log likelihood: 108.8629\n"
     ]
    },
    {
     "name": "stderr",
     "output_type": "stream",
     "text": [
      "\n"
     ]
    }
   ],
   "source": [
    "model = VAE_Conv(latent_size=4).to(device)\n",
    "optimizer = torch.optim.Adam(model.parameters(), 0.0005)\n",
    "\n",
    "model.train()\n",
    "\n",
    "epochs = 200\n",
    "x_ticks = torch.linspace(0, 10, num_batches * epochs)\n",
    "kl_weights = 1/(1 + torch.exp(-2.5*(x_ticks-4))).detach()\n",
    "\n",
    "loss_history = []\n",
    "kld_history = []\n",
    "kld_weight = 0\n",
    "step = 0\n",
    "for i in tqdm(range(epochs)):\n",
    "    avg_log_prob = 0\n",
    "    avg_kld = 0\n",
    "    for i, x in enumerate(train_loader):\n",
    "        optimizer.zero_grad()\n",
    "\n",
    "        rec, kld = model(x)\n",
    "        # bernoulli log prob equals binary cross entropy\n",
    "        # log_prob = F.binary_cross_entropy(rec, x)\n",
    "        log_prob = -torch.mean(torch.sum((x * torch.log(rec)) + (1 - x) * torch.log(1 - rec), dim=(1,2)), dim=0)\n",
    "\n",
    "        kld_weight = kl_weights[step]\n",
    "        loss = kld_weight * kld + log_prob\n",
    "        \n",
    "        avg_log_prob += log_prob.item()\n",
    "        avg_kld += kld.item()\n",
    "                \n",
    "        loss.backward()\n",
    "        optimizer.step()\n",
    "        step += 1\n",
    "    avg_log_prob /= i+1\n",
    "    avg_kld /= i+1\n",
    "\n",
    "    # print(step, avg_log_prob, avg_kld)\n",
    "\n",
    "    kld_history.append(avg_kld)\n",
    "    loss_history.append(avg_log_prob)\n",
    "\n",
    "print(\"Train log likelihood: {:.4f}\".format(avg_log_prob))\n",
    "\n",
    "torch.save(model.state_dict(), 'model_bernoulli.pt')"
   ]
  },
  {
   "cell_type": "code",
   "execution_count": 174,
   "id": "795e93c2",
   "metadata": {},
   "outputs": [
    {
     "data": {
      "image/png": "[encoded data removed]",
      "text/plain": [
       "<Figure size 432x288 with 2 Axes>"
      ]
     },
     "metadata": {
      "needs_background": "light"
     },
     "output_type": "display_data"
    }
   ],
   "source": [
    "### RESULTS PLOT\n",
    "colors = ['#2300a8', '#8400a8'] # '#8400a8', '#00A658'\n",
    "plot_dict = {'Reconstruction BCE': (loss_history, colors[0]), 'KL-Divergence': (kld_history, colors[1])}\n",
    "# plot_dict = {'Reconstruction': (loss_history, colors[0])}\n",
    "\n",
    "n = len(loss_history)\n",
    "\n",
    "# plot train and val losses and log_likelihood area under the curve\n",
    "fig, axes = plt.subplots(1,2)\n",
    "x_axis = list(range(1, n+1))\n",
    "for i, (key, (data, color)) in enumerate(plot_dict.items()):\n",
    "    ax = axes[i]\n",
    "    ax.plot(x_axis, data, \n",
    "                label=key, \n",
    "                linewidth=2, \n",
    "                linestyle='-', \n",
    "                alpha=1, \n",
    "                color=color)\n",
    "    ax.fill_between(x_axis, data, \n",
    "                alpha=0.3, \n",
    "                color=color)\n",
    "    \n",
    "    ax.set_xlabel('Epochs', fontweight='bold')\n",
    "    ax.legend(loc='lower left')\n",
    "\n",
    "    # remove top and right borders\n",
    "    ax.spines['top'].set_visible(False)\n",
    "    ax.spines['right'].set_visible(False)\n",
    "\n",
    "    # adds major gridlines\n",
    "    ax.grid(color='grey', linestyle='-', linewidth=0.35, alpha=0.8)\n",
    "\n",
    "fig.suptitle('Loss over time', fontweight='bold', fontsize=16)\n",
    "\n",
    "# y-axis in log scale (reconstruction loss tends to start high)\n",
    "# ax.set_yscale('log')\n",
    "plt.show()"
   ]
  },
  {
   "cell_type": "markdown",
   "id": "38690185",
   "metadata": {},
   "source": [
    "## Testing"
   ]
  },
  {
   "cell_type": "code",
   "execution_count": 175,
   "id": "b34a83c2",
   "metadata": {},
   "outputs": [
    {
     "name": "stdout",
     "output_type": "stream",
     "text": [
      "Test log likelihood: 110.9773\n"
     ]
    }
   ],
   "source": [
    "model.load_state_dict(torch.load('model2.pt'))\n",
    "\n",
    "### TEST \n",
    "model.eval()\n",
    "log_prob = 0\n",
    "reconstructions = []\n",
    "with torch.no_grad():\n",
    "    h, c = None, None\n",
    "    for i, x in enumerate(test_loader):\n",
    "        rec, kld = model(x)\n",
    "        \n",
    "        log_prob -= torch.mean(torch.sum((x * torch.log(rec)) + (1 - x) * torch.log(1 - rec), axis=(1,2)), axis=0)\n",
    "        reconstructions.append((x, rec))\n",
    "\n",
    "    log_prob /= i+1\n",
    "\n",
    "\n",
    "print(\"Test log likelihood: {:.4f}\".format(log_prob))"
   ]
  },
  {
   "cell_type": "markdown",
   "id": "a981fc95",
   "metadata": {},
   "source": [
    "### Plots\n",
    "sample inputs and reconstructions"
   ]
  },
  {
   "cell_type": "code",
   "execution_count": 181,
   "id": "2f97abed",
   "metadata": {},
   "outputs": [
    {
     "data": {
      "image/png": "[encoded data removed]",
      "text/plain": [
       "<Figure size 720x288 with 10 Axes>"
      ]
     },
     "metadata": {
      "needs_background": "light"
     },
     "output_type": "display_data"
    }
   ],
   "source": [
    "input, reconstructed = reconstructions[0][:5]\n",
    "\n",
    "fig, axes = plt.subplots(2, 5, figsize=(2*5, 2*2))\n",
    "for i in range(5):\n",
    "    ax = axes[0,i]\n",
    "    ax.imshow(input[i].cpu().numpy(), cmap='gray')\n",
    "    ax = axes[1,i]\n",
    "    ax.imshow(reconstructed[i].cpu().numpy(), cmap='gray')\n",
    "plt.tight_layout()\n",
    "plt.show()"
   ]
  },
  {
   "cell_type": "code",
   "execution_count": null,
   "id": "2dd7518e",
   "metadata": {},
   "outputs": [],
   "source": []
  }
 ],
 "metadata": {
  "kernelspec": {
   "display_name": "Python 3 (ipykernel)",
   "language": "python",
   "name": "python3"
  },
  "language_info": {
   "codemirror_mode": {
    "name": "ipython",
    "version": 3
   },
   "file_extension": ".py",
   "mimetype": "text/x-python",
   "name": "python",
   "nbconvert_exporter": "python",
   "pygments_lexer": "ipython3",
   "version": "3.7.10"
  }
 },
 "nbformat": 4,
 "nbformat_minor": 5
}
